{
 "cells": [
  {
   "cell_type": "code",
   "execution_count": 14,
   "metadata": {},
   "outputs": [],
   "source": [
    "import numpy as np\n",
    "import matplotlib as mpl\n",
    "from matplotlib import pyplot as plt\n",
    "%matplotlib inline\n",
    "\n",
    "import random as rand\n",
    "np.random.seed(1234)"
   ]
  },
  {
   "cell_type": "code",
   "execution_count": 15,
   "metadata": {},
   "outputs": [],
   "source": [
    "# Scipy Statistics\n",
    "import scipy.stats as stats\n",
    "import scipy.optimize as opt"
   ]
  },
  {
   "cell_type": "code",
   "execution_count": 16,
   "metadata": {},
   "outputs": [],
   "source": [
    "# Gaussian Function\n",
    "def gauss(x, mean, sigma):\n",
    "    c = 1/(sigma*np.sqrt(2*np.pi))\n",
    "    return c*np.exp(-(x - mean)**2/(2*sigma**2))"
   ]
  },
  {
   "cell_type": "code",
   "execution_count": 17,
   "metadata": {},
   "outputs": [],
   "source": [
    "# Response Matrix\n",
    "r1  = [0.75,0.25,0.25,0.25,0.25,0.25,0.25,0.25,0.25,0.25,0.25,0.25,0.25,0.25,0.25,0.25,0.25,0.25,0.25,0.25]\n",
    "r2  = [0.25,0.5,0.25,0.,0.,0.,0.,0.,0.,0.,0.,0.,0.,0.,0.,0.,0.,0.,0.,0.]\n",
    "r3  = [0.25,0.25,0.5,0.25,0.,0.,0.,0.,0.,0.,0.,0.,0.,0.,0.,0.,0.,0.,0.,0.]\n",
    "r4  = [0.25,0.,0.25,0.5,0.25,0.,0.,0.,0.,0.,0.,0.,0.,0.,0.,0.,0.,0.,0.,0.]\n",
    "r5  = [0.25,0.,0.,0.25,0.5,0.25,0.,0.,0.,0.,0.,0.,0.,0.,0.,0.,0.,0.,0.,0.]\n",
    "r6  = [0.25,0.,0.,0.,0.25,0.5,0.25,0.,0.,0.,0.,0.,0.,0.,0.,0.,0.,0.,0.,0.]\n",
    "r7  = [0.25,0.,0.,0.,0.,0.25,0.5,0.25,0.,0.,0.,0.,0.,0.,0.,0.,0.,0.,0.,0.]\n",
    "r8  = [0.25,0.,0.,0.,0.,0.,0.25,0.5,0.25,0.,0.,0.,0.,0.,0.,0.,0.,0.,0.,0.]\n",
    "r9  = [0.25,0.,0.,0.,0.,0.,0.,0.25,0.5,0.25,0.,0.,0.,0.,0.,0.,0.,0.,0.,0.]\n",
    "r10 = [0.25,0.,0.,0.,0.,0.,0.,0.,0.25,0.5,0.25,0.,0.,0.,0.,0.,0.,0.,0.,0.]\n",
    "r11 = [0.25,0.,0.,0.,0.,0.,0.,0.,0.,0.25,0.5,0.25,0.,0.,0.,0.,0.,0.,0.,0.]\n",
    "r12 = [0.25,0.,0.,0.,0.,0.,0.,0.,0.,0.,0.25,0.5,0.25,0.,0.,0.,0.,0.,0.,0.]\n",
    "r13 = [0.25,0.,0.,0.,0.,0.,0.,0.,0.,0.,0.,0.25,0.5,0.25,0.,0.,0.,0.,0.,0.]\n",
    "r14 = [0.25,0.,0.,0.,0.,0.,0.,0.,0.,0.,0.,0.,0.25,0.5,0.25,0.,0.,0.,0.,0.]\n",
    "r15 = [0.25,0.,0.,0.,0.,0.,0.,0.,0.,0.,0.,0.,0.,0.25,0.5,0.25,0.,0.,0.,0.]\n",
    "r16 = [0.25,0.,0.,0.,0.,0.,0.,0.,0.,0.,0.,0.,0.,0.,0.25,0.5,0.25,0.,0.,0.]\n",
    "r17 = [0.25,0.,0.,0.,0.,0.,0.,0.,0.,0.,0.,0.,0.,0.,0.,0.25,0.5,0.25,0.,0.]\n",
    "r18 = [0.25,0.,0.,0.,0.,0.,0.,0.,0.,0.,0.,0.,0.,0.,0.,0.,0.25,0.5,0.25,0.]\n",
    "r19 = [0.25,0.,0.,0.,0.,0.,0.,0.,0.,0.,0.,0.,0.,0.,0.,0.,0.,0.25,0.5,0.25]\n",
    "r20 = [0.25,0.,0.,0.,0.,0.,0.,0.,0.,0.,0.,0.,0.,0.,0.,0.,0.,0.,0.25,0.75]\n",
    "\n",
    "R = 0.90 * np.array([r1, r2, r3, r4, r5, r6, r7, r8, r9, r10, r11, \n",
    "                     r12, r13, r14, r15, r16, r17, r18, r19, r20])"
   ]
  },
  {
   "cell_type": "markdown",
   "metadata": {},
   "source": [
    "## _Ques.2(d)_"
   ]
  },
  {
   "cell_type": "code",
   "execution_count": 31,
   "metadata": {},
   "outputs": [],
   "source": [
    "# from Ques.2(a),sample generated is s\n",
    "mu, sigma = 5.04, 2.12"
   ]
  },
  {
   "cell_type": "code",
   "execution_count": 32,
   "metadata": {},
   "outputs": [],
   "source": [
    "s = stats.norm.rvs(loc=mu, scale=sigma, size=1000)"
   ]
  },
  {
   "cell_type": "code",
   "execution_count": 33,
   "metadata": {},
   "outputs": [
    {
     "data": {
      "image/png": "[encoded data removed]",
      "text/plain": [
       "<Figure size 432x288 with 1 Axes>"
      ]
     },
     "metadata": {
      "needs_background": "light"
     },
     "output_type": "display_data"
    }
   ],
   "source": [
    "# pyplot for histogram (args passed to np.histogram())\n",
    "n, bin_edges, patches = plt.hist(s, 20, density=False, facecolor='b', alpha=0.75, label=\"f'(x')\")\n",
    "plt.legend()\n",
    "plt.show()"
   ]
  },
  {
   "cell_type": "code",
   "execution_count": 34,
   "metadata": {},
   "outputs": [],
   "source": [
    "n, bin_edges = np.histogram(s, bins=20, density=False)\n",
    "bins = 0.5*(bin_edges[1:] + bin_edges[:-1])"
   ]
  },
  {
   "cell_type": "code",
   "execution_count": 35,
   "metadata": {},
   "outputs": [
    {
     "data": {
      "text/plain": [
       "(20, 20)"
      ]
     },
     "execution_count": 35,
     "metadata": {},
     "output_type": "execute_result"
    }
   ],
   "source": [
    "# Matrix InversionR\n",
    "R_Inv = np.linalg.inv(R)\n",
    "R_Inv.shape"
   ]
  },
  {
   "cell_type": "code",
   "execution_count": 36,
   "metadata": {},
   "outputs": [],
   "source": [
    "x = np.matmul(R_Inv, n)"
   ]
  },
  {
   "cell_type": "code",
   "execution_count": 37,
   "metadata": {
    "scrolled": true
   },
   "outputs": [
    {
     "data": {
      "image/png": "[encoded data removed]",
      "text/plain": [
       "<Figure size 432x288 with 1 Axes>"
      ]
     },
     "metadata": {
      "needs_background": "light"
     },
     "output_type": "display_data"
    }
   ],
   "source": [
    "plt.plot(bins[1:], x[1:], '.', label=\"unfolded\")\n",
    "plt.legend()\n",
    "plt.show()"
   ]
  },
  {
   "cell_type": "code",
   "execution_count": 38,
   "metadata": {},
   "outputs": [],
   "source": [
    "V = np.zeros((20, 20))\n",
    "np.fill_diagonal(V, n)\n",
    "\n",
    "U = np.dot(R_Inv, np.dot(V, R_Inv.T))\n",
    "\n",
    "sigma = np.sqrt(np.diag(U))"
   ]
  },
  {
   "cell_type": "code",
   "execution_count": 39,
   "metadata": {},
   "outputs": [
    {
     "data": {
      "image/png": "[encoded data removed]",
      "text/plain": [
       "<Figure size 432x288 with 1 Axes>"
      ]
     },
     "metadata": {
      "needs_background": "light"
     },
     "output_type": "display_data"
    }
   ],
   "source": [
    "#Plotting...\n",
    "plt.bar(bins[1:], x[1:], yerr=sigma[1:], alpha=0.5, ecolor='black', capsize=5, color='red', label='unfolded')\n",
    "plt.legend()\n",
    "plt.show()"
   ]
  },
  {
   "cell_type": "code",
   "execution_count": null,
   "metadata": {},
   "outputs": [],
   "source": []
  }
 ],
 "metadata": {
  "kernelspec": {
   "display_name": "Python 3",
   "language": "python",
   "name": "python3"
  },
  "language_info": {
   "codemirror_mode": {
    "name": "ipython",
    "version": 3
   },
   "file_extension": ".py",
   "mimetype": "text/x-python",
   "name": "python",
   "nbconvert_exporter": "python",
   "pygments_lexer": "ipython3",
   "version": "3.7.4"
  }
 },
 "nbformat": 4,
 "nbformat_minor": 1
}
