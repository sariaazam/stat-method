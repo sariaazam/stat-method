{
 "cells": [
  {
   "cell_type": "code",
   "execution_count": 1,
   "metadata": {},
   "outputs": [],
   "source": [
    "import numpy as np\n",
    "import matplotlib as mpl\n",
    "from matplotlib import pyplot as plt\n",
    "%matplotlib inline\n",
    "#test\n",
    "\n",
    "import random as rand\n",
    "np.random.seed(1234)"
   ]
  },
  {
   "cell_type": "code",
   "execution_count": 2,
   "metadata": {},
   "outputs": [],
   "source": [
    "# Scipy Statistics\n",
    "import scipy.stats as stats\n",
    "import scipy.optimize as opt"
   ]
  },
  {
   "cell_type": "code",
   "execution_count": 3,
   "metadata": {},
   "outputs": [],
   "source": [
    "# Gaussian Function\n",
    "def gauss(x, mean, sigma):\n",
    "    c = 1/(sigma*np.sqrt(2*np.pi))\n",
    "    return c*np.exp(-(x - mean)**2/(2*sigma**2))"
   ]
  },
  {
   "cell_type": "code",
   "execution_count": 4,
   "metadata": {},
   "outputs": [],
   "source": [
    "def matplot_hist(x, title='True Dist.', norm=False):\n",
    "    n, bin_edges,_ = plt.hist(x, 20, density=norm, facecolor='b', alpha=0.75, label=r'$f(x)$')\n",
    "    bins = 0.5*(bin_edges[1:] + bin_edges[:-1])\n",
    "    plt.title(title)\n",
    "    plt.xlabel('bins')\n",
    "    plt.ylabel('counts')\n",
    "    plt.grid(True)\n",
    "    plt.legend()\n",
    "    plt.show()\n",
    "    \n",
    "    return n, bins"
   ]
  },
  {
   "cell_type": "code",
   "execution_count": 5,
   "metadata": {},
   "outputs": [],
   "source": [
    "# Response Matrix\n",
    "r1  = [0.75,0.25,0.25,0.25,0.25,0.25,0.25,0.25,0.25,0.25,0.25,0.25,0.25,0.25,0.25,0.25,0.25,0.25,0.25,0.25]\n",
    "r2  = [0.25,0.5,0.25,0.,0.,0.,0.,0.,0.,0.,0.,0.,0.,0.,0.,0.,0.,0.,0.,0.]\n",
    "r3  = [0.25,0.25,0.5,0.25,0.,0.,0.,0.,0.,0.,0.,0.,0.,0.,0.,0.,0.,0.,0.,0.]\n",
    "r4  = [0.25,0.,0.25,0.5,0.25,0.,0.,0.,0.,0.,0.,0.,0.,0.,0.,0.,0.,0.,0.,0.]\n",
    "r5  = [0.25,0.,0.,0.25,0.5,0.25,0.,0.,0.,0.,0.,0.,0.,0.,0.,0.,0.,0.,0.,0.]\n",
    "r6  = [0.25,0.,0.,0.,0.25,0.5,0.25,0.,0.,0.,0.,0.,0.,0.,0.,0.,0.,0.,0.,0.]\n",
    "r7  = [0.25,0.,0.,0.,0.,0.25,0.5,0.25,0.,0.,0.,0.,0.,0.,0.,0.,0.,0.,0.,0.]\n",
    "r8  = [0.25,0.,0.,0.,0.,0.,0.25,0.5,0.25,0.,0.,0.,0.,0.,0.,0.,0.,0.,0.,0.]\n",
    "r9  = [0.25,0.,0.,0.,0.,0.,0.,0.25,0.5,0.25,0.,0.,0.,0.,0.,0.,0.,0.,0.,0.]\n",
    "r10 = [0.25,0.,0.,0.,0.,0.,0.,0.,0.25,0.5,0.25,0.,0.,0.,0.,0.,0.,0.,0.,0.]\n",
    "r11 = [0.25,0.,0.,0.,0.,0.,0.,0.,0.,0.25,0.5,0.25,0.,0.,0.,0.,0.,0.,0.,0.]\n",
    "r12 = [0.25,0.,0.,0.,0.,0.,0.,0.,0.,0.,0.25,0.5,0.25,0.,0.,0.,0.,0.,0.,0.]\n",
    "r13 = [0.25,0.,0.,0.,0.,0.,0.,0.,0.,0.,0.,0.25,0.5,0.25,0.,0.,0.,0.,0.,0.]\n",
    "r14 = [0.25,0.,0.,0.,0.,0.,0.,0.,0.,0.,0.,0.,0.25,0.5,0.25,0.,0.,0.,0.,0.]\n",
    "r15 = [0.25,0.,0.,0.,0.,0.,0.,0.,0.,0.,0.,0.,0.,0.25,0.5,0.25,0.,0.,0.,0.]\n",
    "r16 = [0.25,0.,0.,0.,0.,0.,0.,0.,0.,0.,0.,0.,0.,0.,0.25,0.5,0.25,0.,0.,0.]\n",
    "r17 = [0.25,0.,0.,0.,0.,0.,0.,0.,0.,0.,0.,0.,0.,0.,0.,0.25,0.5,0.25,0.,0.]\n",
    "r18 = [0.25,0.,0.,0.,0.,0.,0.,0.,0.,0.,0.,0.,0.,0.,0.,0.,0.25,0.5,0.25,0.]\n",
    "r19 = [0.25,0.,0.,0.,0.,0.,0.,0.,0.,0.,0.,0.,0.,0.,0.,0.,0.,0.25,0.5,0.25]\n",
    "r20 = [0.25,0.,0.,0.,0.,0.,0.,0.,0.,0.,0.,0.,0.,0.,0.,0.,0.,0.,0.25,0.75]\n",
    "\n",
    "R = 0.90 * np.array([r1, r2, r3, r4, r5, r6, r7, r8, r9, r10, r11, \n",
    "                     r12, r13, r14, r15, r16, r17, r18, r19, r20])"
   ]
  },
  {
   "cell_type": "code",
   "execution_count": 6,
   "metadata": {},
   "outputs": [
    {
     "name": "stdout",
     "output_type": "stream",
     "text": [
      "[[0.675 0.225 0.225 0.225 0.225 0.225 0.225 0.225 0.225 0.225 0.225 0.225\n",
      "  0.225 0.225 0.225 0.225 0.225 0.225 0.225 0.225]\n",
      " [0.225 0.45  0.225 0.    0.    0.    0.    0.    0.    0.    0.    0.\n",
      "  0.    0.    0.    0.    0.    0.    0.    0.   ]\n",
      " [0.225 0.225 0.45  0.225 0.    0.    0.    0.    0.    0.    0.    0.\n",
      "  0.    0.    0.    0.    0.    0.    0.    0.   ]\n",
      " [0.225 0.    0.225 0.45  0.225 0.    0.    0.    0.    0.    0.    0.\n",
      "  0.    0.    0.    0.    0.    0.    0.    0.   ]\n",
      " [0.225 0.    0.    0.225 0.45  0.225 0.    0.    0.    0.    0.    0.\n",
      "  0.    0.    0.    0.    0.    0.    0.    0.   ]\n",
      " [0.225 0.    0.    0.    0.225 0.45  0.225 0.    0.    0.    0.    0.\n",
      "  0.    0.    0.    0.    0.    0.    0.    0.   ]\n",
      " [0.225 0.    0.    0.    0.    0.225 0.45  0.225 0.    0.    0.    0.\n",
      "  0.    0.    0.    0.    0.    0.    0.    0.   ]\n",
      " [0.225 0.    0.    0.    0.    0.    0.225 0.45  0.225 0.    0.    0.\n",
      "  0.    0.    0.    0.    0.    0.    0.    0.   ]\n",
      " [0.225 0.    0.    0.    0.    0.    0.    0.225 0.45  0.225 0.    0.\n",
      "  0.    0.    0.    0.    0.    0.    0.    0.   ]\n",
      " [0.225 0.    0.    0.    0.    0.    0.    0.    0.225 0.45  0.225 0.\n",
      "  0.    0.    0.    0.    0.    0.    0.    0.   ]\n",
      " [0.225 0.    0.    0.    0.    0.    0.    0.    0.    0.225 0.45  0.225\n",
      "  0.    0.    0.    0.    0.    0.    0.    0.   ]\n",
      " [0.225 0.    0.    0.    0.    0.    0.    0.    0.    0.    0.225 0.45\n",
      "  0.225 0.    0.    0.    0.    0.    0.    0.   ]\n",
      " [0.225 0.    0.    0.    0.    0.    0.    0.    0.    0.    0.    0.225\n",
      "  0.45  0.225 0.    0.    0.    0.    0.    0.   ]\n",
      " [0.225 0.    0.    0.    0.    0.    0.    0.    0.    0.    0.    0.\n",
      "  0.225 0.45  0.225 0.    0.    0.    0.    0.   ]\n",
      " [0.225 0.    0.    0.    0.    0.    0.    0.    0.    0.    0.    0.\n",
      "  0.    0.225 0.45  0.225 0.    0.    0.    0.   ]\n",
      " [0.225 0.    0.    0.    0.    0.    0.    0.    0.    0.    0.    0.\n",
      "  0.    0.    0.225 0.45  0.225 0.    0.    0.   ]\n",
      " [0.225 0.    0.    0.    0.    0.    0.    0.    0.    0.    0.    0.\n",
      "  0.    0.    0.    0.225 0.45  0.225 0.    0.   ]\n",
      " [0.225 0.    0.    0.    0.    0.    0.    0.    0.    0.    0.    0.\n",
      "  0.    0.    0.    0.    0.225 0.45  0.225 0.   ]\n",
      " [0.225 0.    0.    0.    0.    0.    0.    0.    0.    0.    0.    0.\n",
      "  0.    0.    0.    0.    0.    0.225 0.45  0.225]\n",
      " [0.225 0.    0.    0.    0.    0.    0.    0.    0.    0.    0.    0.\n",
      "  0.    0.    0.    0.    0.    0.    0.225 0.675]]\n"
     ]
    }
   ],
   "source": [
    "print(R)"
   ]
  },
  {
   "cell_type": "markdown",
   "metadata": {},
   "source": [
    "## _Q.2(a)_"
   ]
  },
  {
   "cell_type": "code",
   "execution_count": 7,
   "metadata": {},
   "outputs": [],
   "source": [
    "# draw sample from true dist.\n",
    "t = stats.norm.rvs(loc=5, scale=2.0, size=1000)"
   ]
  },
  {
   "cell_type": "code",
   "execution_count": 8,
   "metadata": {},
   "outputs": [
    {
     "data": {
      "image/png": "[encoded data removed]",
      "text/plain": [
       "<Figure size 432x288 with 1 Axes>"
      ]
     },
     "metadata": {
      "needs_background": "light"
     },
     "output_type": "display_data"
    }
   ],
   "source": [
    "# discretize using histogram\n",
    "n, bins = matplot_hist(t)"
   ]
  },
  {
   "cell_type": "markdown",
   "metadata": {},
   "source": [
    "### _Expected Dist._\n",
    "\n",
    "We can get a expected distribution ($y$) from the true distribution ($x$) by using\n",
    "\n",
    "$$f'(x') = R \\times f(x)$$\n",
    "\n",
    "$$\\Rightarrow y = R \\times x$$"
   ]
  },
  {
   "cell_type": "code",
   "execution_count": 9,
   "metadata": {},
   "outputs": [],
   "source": [
    "# y = Ax\n",
    "y = np.matmul(R, n)"
   ]
  },
  {
   "cell_type": "code",
   "execution_count": 10,
   "metadata": {},
   "outputs": [],
   "source": [
    "# for errors we need un-normalized histogram\n",
    "y_errors = np.sqrt(n)"
   ]
  },
  {
   "cell_type": "code",
   "execution_count": 11,
   "metadata": {},
   "outputs": [
    {
     "data": {
      "image/png": "[encoded data removed]",
      "text/plain": [
       "<Figure size 432x288 with 1 Axes>"
      ]
     },
     "metadata": {
      "needs_background": "light"
     },
     "output_type": "display_data"
    }
   ],
   "source": [
    "# skip the first outlier\n",
    "# plt.bar(bins[1:], y[1:], color='y', label=r'$y = Rx$')\n",
    "plt.plot(bins[1:], y[1:], 'b*', label=r'$y = Rx$')\n",
    "plt.errorbar(bins[1:], y[1:], yerr=y_errors[1:], fmt='.b', ecolor='gray', elinewidth=1, capsize=2)\n",
    "plt.title('Folded Dist.')\n",
    "plt.xlabel('bins')\n",
    "plt.ylabel('y')\n",
    "plt.grid(True)\n",
    "plt.legend()\n",
    "plt.show()"
   ]
  },
  {
   "cell_type": "markdown",
   "metadata": {},
   "source": [
    "### _Fit $y = Rx$_"
   ]
  },
  {
   "cell_type": "code",
   "execution_count": 12,
   "metadata": {},
   "outputs": [],
   "source": [
    "# discretize using histogram\n",
    "n, bin_edges = np.histogram(t, bins=20, density=True)\n",
    "bins = 0.5*(bin_edges[1:] + bin_edges[:-1])\n",
    "y = np.matmul(R, n)"
   ]
  },
  {
   "cell_type": "code",
   "execution_count": 13,
   "metadata": {},
   "outputs": [],
   "source": [
    "# Fit data with Gaussian (Curve Fitting)\n",
    "popt, pcov = opt.curve_fit(gauss, xdata=bins[1:], ydata=y[1:])\n",
    "pdf = stats.norm.pdf(x=bins[1:], loc=popt[0], scale=popt[1])"
   ]
  },
  {
   "cell_type": "code",
   "execution_count": 14,
   "metadata": {},
   "outputs": [
    {
     "name": "stdout",
     "output_type": "stream",
     "text": [
      "mu:  5.040252684592201 sigma:  2.1154348966483734\n"
     ]
    }
   ],
   "source": [
    "print(\"mu: \", popt[0], \"sigma: \", popt[1])"
   ]
  },
  {
   "cell_type": "code",
   "execution_count": 15,
   "metadata": {},
   "outputs": [
    {
     "data": {
      "image/png": "[encoded data removed]",
      "text/plain": [
       "<Figure size 432x288 with 1 Axes>"
      ]
     },
     "metadata": {
      "needs_background": "light"
     },
     "output_type": "display_data"
    }
   ],
   "source": [
    "plt.plot(bins[1:], y[1:], 'b*', label=r'$y = Rx$')\n",
    "plt.plot(bins[1:], pdf, 'r--', label='Fit')\n",
    "plt.title(r'Folded Dist.')\n",
    "plt.xlabel('y')\n",
    "plt.ylabel('Probability')\n",
    "plt.grid(True)\n",
    "plt.legend()\n",
    "plt.show()"
   ]
  },
  {
   "cell_type": "code",
   "execution_count": 16,
   "metadata": {},
   "outputs": [
    {
     "data": {
      "image/png": "[encoded data removed]",
      "text/plain": [
       "<Figure size 432x288 with 1 Axes>"
      ]
     },
     "metadata": {
      "needs_background": "light"
     },
     "output_type": "display_data"
    }
   ],
   "source": [
    "def histograms(mu=popt[0], sigma =popt[1]):\n",
    "    s = np.random.normal(mu, sigma, size=1000)\n",
    "    plt.figure()\n",
    "    plt.hist(t, 20, density=True, facecolor='y', histtype='step', alpha=0.69, label=\"True\")\n",
    "    plt.hist(s, 20, density=True, facecolor='g', histtype='step', alpha=0.45, label=\"Folded\")\n",
    "    # plt.text(-2, .175, r'$\\mu=5.0,\\ \\sigma=2.0$', color='y')\n",
    "    # plt.text(-2, .150, r'$\\mu=5.04,\\ \\sigma=2.11$', color='g')\n",
    "    plt.legend()\n",
    "    plt.show()\n",
    "    \n",
    "histograms(mu=popt[0], sigma =popt[1])"
   ]
  },
  {
   "cell_type": "code",
   "execution_count": null,
   "metadata": {},
   "outputs": [],
   "source": []
  }
 ],
 "metadata": {
  "kernelspec": {
   "display_name": "Python 3",
   "language": "python",
   "name": "python3"
  },
  "language_info": {
   "codemirror_mode": {
    "name": "ipython",
    "version": 3
   },
   "file_extension": ".py",
   "mimetype": "text/x-python",
   "name": "python",
   "nbconvert_exporter": "python",
   "pygments_lexer": "ipython3",
   "version": "3.7.4"
  }
 },
 "nbformat": 4,
 "nbformat_minor": 1
}
