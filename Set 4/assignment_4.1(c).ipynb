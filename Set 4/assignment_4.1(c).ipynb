{
 "cells": [
  {
   "cell_type": "code",
   "execution_count": 1,
   "metadata": {},
   "outputs": [],
   "source": [
    "import numpy as np\n",
    "import math as m\n",
    "import matplotlib.pyplot as plt\n",
    "%matplotlib inline\n",
    "\n",
    "import random as rand\n",
    "np.random.seed(1234)"
   ]
  },
  {
   "cell_type": "markdown",
   "metadata": {},
   "source": [
    "### _Q.1(c)_\n",
    "\n",
    "Write a program that determines $\\pi$ for $N$ \"dart throws\", i.e. trials, following the\n",
    "method described above. Plot $\\pi$ as a function of $N$."
   ]
  },
  {
   "cell_type": "code",
   "execution_count": 2,
   "metadata": {},
   "outputs": [],
   "source": [
    "N = 10000\n",
    "N_in = 0"
   ]
  },
  {
   "cell_type": "code",
   "execution_count": 3,
   "metadata": {},
   "outputs": [],
   "source": [
    "# Iterate for the number of darts.\n",
    "pi_l = []\n",
    "xy = []\n",
    "xy_in = []\n",
    "\n",
    "for i in range(0, N):\n",
    "    # generate random x, y in [0, 1].\n",
    "    x2 = rand.random()**2\n",
    "    y2 = rand.random()**2\n",
    "    \n",
    "    # count if inside unit circle.\n",
    "    if np.sqrt(x2 + y2) < 1.0:\n",
    "        N_in += 1\n",
    "        xy_in.append((x2, y2))\n",
    "        \n",
    "    if i%100==0:\n",
    "        pi_l.append((float(N_in) / (i+1)) * 4)\n",
    "        \n",
    "    xy.append((x2, y2))"
   ]
  },
  {
   "cell_type": "code",
   "execution_count": 4,
   "metadata": {},
   "outputs": [
    {
     "name": "stdout",
     "output_type": "stream",
     "text": [
      "pi:  3.1348\n"
     ]
    }
   ],
   "source": [
    "# inside / total = pi / 4\n",
    "pi = (float(N_in)/N)*4\n",
    "print(\"pi: \", pi)"
   ]
  },
  {
   "cell_type": "code",
   "execution_count": 5,
   "metadata": {},
   "outputs": [
    {
     "data": {
      "image/png": "[encoded data removed]",
      "text/plain": [
       "<Figure size 432x288 with 1 Axes>"
      ]
     },
     "metadata": {
      "needs_background": "light"
     },
     "output_type": "display_data"
    }
   ],
   "source": [
    "plt.plot(pi_l)\n",
    "plt.xlabel('iterations')\n",
    "plt.ylabel('pi')\n",
    "plt.show()"
   ]
  },
  {
   "cell_type": "code",
   "execution_count": null,
   "metadata": {},
   "outputs": [],
   "source": []
  }
 ],
 "metadata": {
  "kernelspec": {
   "display_name": "Python 3",
   "language": "python",
   "name": "python3"
  },
  "language_info": {
   "codemirror_mode": {
    "name": "ipython",
    "version": 3
   },
   "file_extension": ".py",
   "mimetype": "text/x-python",
   "name": "python",
   "nbconvert_exporter": "python",
   "pygments_lexer": "ipython3",
   "version": "3.7.3"
  }
 },
 "nbformat": 4,
 "nbformat_minor": 1
}
